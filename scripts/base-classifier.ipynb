{
 "cells": [
  {
   "cell_type": "code",
   "execution_count": 1,
   "metadata": {
    "collapsed": false,
    "scrolled": true
   },
   "outputs": [
    {
     "name": "stderr",
     "output_type": "stream",
     "text": [
      "Vendor:  Continuum Analytics, Inc.\n",
      "Package: mkl\n",
      "Message: trial mode expires in 20 days\n"
     ]
    }
   ],
   "source": [
    "import pandas as pd\n",
    "import numpy as np\n",
    "\n",
    "from sklearn.linear_model import LogisticRegressionCV\n",
    "from sklearn.ensemble import RandomForestClassifier\n",
    "from sklearn.model_selection import cross_val_score\n",
    "from sklearn.model_selection import train_test_split\n",
    "from sklearn.metrics import roc_auc_score, average_precision_score\n",
    "from sklearn.metrics import precision_recall_curve\n",
    "from sklearn.utils import shuffle\n",
    "\n",
    "\n",
    "import matplotlib.pyplot as plt\n",
    "\n",
    "%matplotlib inline"
   ]
  },
  {
   "cell_type": "markdown",
   "metadata": {},
   "source": [
    "## Load dataset and prepare train/test splits\n",
    "\n",
    "The data set comes from https://www.kaggle.com/dalpozz/creditcardfraud"
   ]
  },
  {
   "cell_type": "code",
   "execution_count": 2,
   "metadata": {
    "collapsed": false,
    "scrolled": true
   },
   "outputs": [
    {
     "data": {
      "text/html": [
       "<div>\n",
       "<table border=\"1\" class=\"dataframe\">\n",
       "  <thead>\n",
       "    <tr style=\"text-align: right;\">\n",
       "      <th></th>\n",
       "      <th>Time</th>\n",
       "      <th>V1</th>\n",
       "      <th>V2</th>\n",
       "      <th>V3</th>\n",
       "      <th>V4</th>\n",
       "      <th>V5</th>\n",
       "      <th>V6</th>\n",
       "      <th>V7</th>\n",
       "      <th>V8</th>\n",
       "      <th>V9</th>\n",
       "      <th>...</th>\n",
       "      <th>V21</th>\n",
       "      <th>V22</th>\n",
       "      <th>V23</th>\n",
       "      <th>V24</th>\n",
       "      <th>V25</th>\n",
       "      <th>V26</th>\n",
       "      <th>V27</th>\n",
       "      <th>V28</th>\n",
       "      <th>Amount</th>\n",
       "      <th>Class</th>\n",
       "    </tr>\n",
       "  </thead>\n",
       "  <tbody>\n",
       "    <tr>\n",
       "      <th>0</th>\n",
       "      <td>0.0</td>\n",
       "      <td>-1.359807</td>\n",
       "      <td>-0.072781</td>\n",
       "      <td>2.536347</td>\n",
       "      <td>1.378155</td>\n",
       "      <td>-0.338321</td>\n",
       "      <td>0.462388</td>\n",
       "      <td>0.239599</td>\n",
       "      <td>0.098698</td>\n",
       "      <td>0.363787</td>\n",
       "      <td>...</td>\n",
       "      <td>-0.018307</td>\n",
       "      <td>0.277838</td>\n",
       "      <td>-0.110474</td>\n",
       "      <td>0.066928</td>\n",
       "      <td>0.128539</td>\n",
       "      <td>-0.189115</td>\n",
       "      <td>0.133558</td>\n",
       "      <td>-0.021053</td>\n",
       "      <td>149.62</td>\n",
       "      <td>0</td>\n",
       "    </tr>\n",
       "    <tr>\n",
       "      <th>1</th>\n",
       "      <td>0.0</td>\n",
       "      <td>1.191857</td>\n",
       "      <td>0.266151</td>\n",
       "      <td>0.166480</td>\n",
       "      <td>0.448154</td>\n",
       "      <td>0.060018</td>\n",
       "      <td>-0.082361</td>\n",
       "      <td>-0.078803</td>\n",
       "      <td>0.085102</td>\n",
       "      <td>-0.255425</td>\n",
       "      <td>...</td>\n",
       "      <td>-0.225775</td>\n",
       "      <td>-0.638672</td>\n",
       "      <td>0.101288</td>\n",
       "      <td>-0.339846</td>\n",
       "      <td>0.167170</td>\n",
       "      <td>0.125895</td>\n",
       "      <td>-0.008983</td>\n",
       "      <td>0.014724</td>\n",
       "      <td>2.69</td>\n",
       "      <td>0</td>\n",
       "    </tr>\n",
       "    <tr>\n",
       "      <th>2</th>\n",
       "      <td>1.0</td>\n",
       "      <td>-1.358354</td>\n",
       "      <td>-1.340163</td>\n",
       "      <td>1.773209</td>\n",
       "      <td>0.379780</td>\n",
       "      <td>-0.503198</td>\n",
       "      <td>1.800499</td>\n",
       "      <td>0.791461</td>\n",
       "      <td>0.247676</td>\n",
       "      <td>-1.514654</td>\n",
       "      <td>...</td>\n",
       "      <td>0.247998</td>\n",
       "      <td>0.771679</td>\n",
       "      <td>0.909412</td>\n",
       "      <td>-0.689281</td>\n",
       "      <td>-0.327642</td>\n",
       "      <td>-0.139097</td>\n",
       "      <td>-0.055353</td>\n",
       "      <td>-0.059752</td>\n",
       "      <td>378.66</td>\n",
       "      <td>0</td>\n",
       "    </tr>\n",
       "    <tr>\n",
       "      <th>3</th>\n",
       "      <td>1.0</td>\n",
       "      <td>-0.966272</td>\n",
       "      <td>-0.185226</td>\n",
       "      <td>1.792993</td>\n",
       "      <td>-0.863291</td>\n",
       "      <td>-0.010309</td>\n",
       "      <td>1.247203</td>\n",
       "      <td>0.237609</td>\n",
       "      <td>0.377436</td>\n",
       "      <td>-1.387024</td>\n",
       "      <td>...</td>\n",
       "      <td>-0.108300</td>\n",
       "      <td>0.005274</td>\n",
       "      <td>-0.190321</td>\n",
       "      <td>-1.175575</td>\n",
       "      <td>0.647376</td>\n",
       "      <td>-0.221929</td>\n",
       "      <td>0.062723</td>\n",
       "      <td>0.061458</td>\n",
       "      <td>123.50</td>\n",
       "      <td>0</td>\n",
       "    </tr>\n",
       "    <tr>\n",
       "      <th>4</th>\n",
       "      <td>2.0</td>\n",
       "      <td>-1.158233</td>\n",
       "      <td>0.877737</td>\n",
       "      <td>1.548718</td>\n",
       "      <td>0.403034</td>\n",
       "      <td>-0.407193</td>\n",
       "      <td>0.095921</td>\n",
       "      <td>0.592941</td>\n",
       "      <td>-0.270533</td>\n",
       "      <td>0.817739</td>\n",
       "      <td>...</td>\n",
       "      <td>-0.009431</td>\n",
       "      <td>0.798278</td>\n",
       "      <td>-0.137458</td>\n",
       "      <td>0.141267</td>\n",
       "      <td>-0.206010</td>\n",
       "      <td>0.502292</td>\n",
       "      <td>0.219422</td>\n",
       "      <td>0.215153</td>\n",
       "      <td>69.99</td>\n",
       "      <td>0</td>\n",
       "    </tr>\n",
       "  </tbody>\n",
       "</table>\n",
       "<p>5 rows × 31 columns</p>\n",
       "</div>"
      ],
      "text/plain": [
       "   Time        V1        V2        V3        V4        V5        V6        V7  \\\n",
       "0   0.0 -1.359807 -0.072781  2.536347  1.378155 -0.338321  0.462388  0.239599   \n",
       "1   0.0  1.191857  0.266151  0.166480  0.448154  0.060018 -0.082361 -0.078803   \n",
       "2   1.0 -1.358354 -1.340163  1.773209  0.379780 -0.503198  1.800499  0.791461   \n",
       "3   1.0 -0.966272 -0.185226  1.792993 -0.863291 -0.010309  1.247203  0.237609   \n",
       "4   2.0 -1.158233  0.877737  1.548718  0.403034 -0.407193  0.095921  0.592941   \n",
       "\n",
       "         V8        V9  ...         V21       V22       V23       V24  \\\n",
       "0  0.098698  0.363787  ...   -0.018307  0.277838 -0.110474  0.066928   \n",
       "1  0.085102 -0.255425  ...   -0.225775 -0.638672  0.101288 -0.339846   \n",
       "2  0.247676 -1.514654  ...    0.247998  0.771679  0.909412 -0.689281   \n",
       "3  0.377436 -1.387024  ...   -0.108300  0.005274 -0.190321 -1.175575   \n",
       "4 -0.270533  0.817739  ...   -0.009431  0.798278 -0.137458  0.141267   \n",
       "\n",
       "        V25       V26       V27       V28  Amount  Class  \n",
       "0  0.128539 -0.189115  0.133558 -0.021053  149.62      0  \n",
       "1  0.167170  0.125895 -0.008983  0.014724    2.69      0  \n",
       "2 -0.327642 -0.139097 -0.055353 -0.059752  378.66      0  \n",
       "3  0.647376 -0.221929  0.062723  0.061458  123.50      0  \n",
       "4 -0.206010  0.502292  0.219422  0.215153   69.99      0  \n",
       "\n",
       "[5 rows x 31 columns]"
      ]
     },
     "execution_count": 2,
     "metadata": {},
     "output_type": "execute_result"
    }
   ],
   "source": [
    "df = pd.read_csv(\"../data/creditcard.csv\")\n",
    "df.head()"
   ]
  },
  {
   "cell_type": "code",
   "execution_count": 3,
   "metadata": {
    "collapsed": false,
    "scrolled": true
   },
   "outputs": [],
   "source": [
    "X = np.array(df.filter(regex=\"V.*\"))\n",
    "y = np.array(df.Class)"
   ]
  },
  {
   "cell_type": "code",
   "execution_count": 4,
   "metadata": {
    "collapsed": true
   },
   "outputs": [],
   "source": [
    "X_train, X_test, y_train, y_test = train_test_split(X, y, test_size=0.33, random_state=42, stratify = y)"
   ]
  },
  {
   "cell_type": "markdown",
   "metadata": {},
   "source": [
    "## Helper functions"
   ]
  },
  {
   "cell_type": "code",
   "execution_count": 5,
   "metadata": {
    "collapsed": true,
    "scrolled": true
   },
   "outputs": [],
   "source": [
    "## plotting precision recall curves wrapper\n",
    "\n",
    "def plot_precision_recall_curve(y_test, y_score, title = \"\"):\n",
    "    precision, recall, _ = precision_recall_curve(y_test, y_score)\n",
    "\n",
    "    plt.step(recall, precision, color='b', alpha=0.2,\n",
    "             where='post')\n",
    "    plt.fill_between(recall, precision, step='post', alpha=0.2,\n",
    "                     color='b')\n",
    "\n",
    "    plt.xlabel('Recall')\n",
    "    plt.ylabel('Precision')\n",
    "    plt.ylim([0.0, 1.05])\n",
    "    plt.xlim([0.0, 1.0])\n",
    "    plt.title(title)"
   ]
  },
  {
   "cell_type": "code",
   "execution_count": 12,
   "metadata": {
    "collapsed": true
   },
   "outputs": [],
   "source": [
    "def eval_classifier(clf):\n",
    "    avg_precisions = cross_val_score(clf, X, y, scoring = 'average_precision', cv = 5, n_jobs=-2)\n",
    "    roc_aucs = cross_val_score(clf, X, y, scoring = 'roc_auc', cv = 5, n_jobs=-2)\n",
    "    \n",
    "    print \"the average precisoin\", np.mean(avg_precisions ), \"±\", np.std(avg_precisions)\n",
    "    print \"the average auc\", np.mean(roc_aucs), \"±\", np.std(roc_aucs)\n",
    "    \n",
    "\n",
    "    clf.fit(X_train, y_train)\n",
    "    y_scores = clf.predict_proba(X_test)[:,1]\n",
    "\n",
    "    AUC = roc_auc_score(y_test, y_scores)\n",
    "    avg_prec = average_precision_score(y_test, y_scores)\n",
    "\n",
    "    plot_precision_recall_curve(y_test, LR.predict_proba(X_test)[:,1], \n",
    "                                \"Logistic Regression Baseline \\n AUC: {0:0.4f}\".format(AUC) \n",
    "                                + \"\\nAverage Precision: {0:0.4f}\".format(avg_prec))"
   ]
  },
  {
   "cell_type": "markdown",
   "metadata": {},
   "source": [
    "##Logistic regression baseline"
   ]
  },
  {
   "cell_type": "code",
   "execution_count": 6,
   "metadata": {
    "collapsed": false
   },
   "outputs": [
    {
     "name": "stdout",
     "output_type": "stream",
     "text": [
      "the average precisoin 0.747259806666 ± 0.094272484125\n",
      "the average auc 0.975573856367 ± 0.00574205101924\n"
     ]
    }
   ],
   "source": [
    "np.random.seed(1)\n",
    "\n",
    "LR = LogisticRegressionCV(cv = 3, n_jobs=1)\n",
    "avg_precisions = cross_val_score(LR, X, y, scoring = 'average_precision', cv = 5, n_jobs=-2)\n",
    "roc_aucs = cross_val_score(LR, X, y, scoring = 'roc_auc', cv = 5, n_jobs=-2)\n",
    "\n",
    "print \"the average precisoin\", np.mean(avg_precisions ), \"±\", np.std(avg_precisions)\n",
    "print \"the average auc\", np.mean(roc_aucs), \"±\", np.std(roc_aucs)"
   ]
  },
  {
   "cell_type": "code",
   "execution_count": 7,
   "metadata": {
    "collapsed": false
   },
   "outputs": [
    {
     "data": {
      "image/png": "[encoded data removed]",
      "text/plain": [
       "<matplotlib.figure.Figure at 0x11a1e5310>"
      ]
     },
     "metadata": {},
     "output_type": "display_data"
    }
   ],
   "source": [
    "LR = LogisticRegressionCV(cv = 10, n_jobs=-2)\n",
    "LR.fit(X_train, y_train)\n",
    "y_scores = LR.predict_proba(X_test)[:,1]\n",
    "\n",
    "AUC = roc_auc_score(y_test, y_scores)\n",
    "avg_prec = average_precision_score(y_test, y_scores)\n",
    "\n",
    "plot_precision_recall_curve(y_test, LR.predict_proba(X_test)[:,1], \n",
    "                            \"Logistic Regression Baseline \\n AUC: {0:0.4f}\".format(AUC) \n",
    "                            + \"\\nAverage Precision: {0:0.4f}\".format(avg_prec))"
   ]
  },
  {
   "cell_type": "markdown",
   "metadata": {},
   "source": [
    "## Logistic regression \"balanced\" class weighted "
   ]
  },
  {
   "cell_type": "code",
   "execution_count": 8,
   "metadata": {
    "collapsed": false
   },
   "outputs": [
    {
     "name": "stdout",
     "output_type": "stream",
     "text": [
      "the average precisoin 0.720273251267 ± 0.0800665753135\n",
      "the average auc 0.977811472741 ± 0.0138816799357\n"
     ]
    }
   ],
   "source": [
    "np.random.seed(1)\n",
    "\n",
    "LR = LogisticRegressionCV(class_weight=\"balanced\", cv = 3, n_jobs=1)\n",
    "avg_precisions = cross_val_score(LR, X, y, scoring = 'average_precision', cv = 5, n_jobs=-2)\n",
    "roc_aucs = cross_val_score(LR, X, y, scoring = 'roc_auc', cv = 5, n_jobs=-2)\n",
    "\n",
    "print \"the average precisoin\", np.mean(avg_precisions ), \"±\", np.std(avg_precisions)\n",
    "print \"the average auc\", np.mean(roc_aucs), \"±\", np.std(roc_aucs)"
   ]
  },
  {
   "cell_type": "code",
   "execution_count": 9,
   "metadata": {
    "collapsed": false,
    "scrolled": true
   },
   "outputs": [
    {
     "data": {
      "image/png": "[encoded data removed]",
      "text/plain": [
       "<matplotlib.figure.Figure at 0x111751290>"
      ]
     },
     "metadata": {},
     "output_type": "display_data"
    }
   ],
   "source": [
    "LR = LogisticRegressionCV(class_weight=\"balanced\", n_jobs=-2, cv = 5)\n",
    "LR.fit(X_train, y_train)\n",
    "y_scores = LR.predict_proba(X_test)[:,1]\n",
    "\n",
    "AUC = roc_auc_score(y_test, y_scores)\n",
    "avg_prec = average_precision_score(y_test, y_scores)\n",
    "\n",
    "plot_precision_recall_curve(y_test, LR.predict_proba(X_test)[:,1], \n",
    "                            \"Logistic Regression Baseline \\n AUC: {0:0.4f}\".format(AUC) \n",
    "                            + \"\\nAverage Precision: {0:0.4f}\".format(avg_prec))"
   ]
  },
  {
   "cell_type": "markdown",
   "metadata": {},
   "source": [
    "## Random Forests baseline"
   ]
  },
  {
   "cell_type": "code",
   "execution_count": 10,
   "metadata": {
    "collapsed": false
   },
   "outputs": [
    {
     "name": "stdout",
     "output_type": "stream",
     "text": [
      "the average precisoin 0.799192872754 ± 0.0794711651625\n",
      "the average auc 0.949736516589 ± 0.0243733106558\n"
     ]
    }
   ],
   "source": [
    "np.random.seed(1)\n",
    "\n",
    "RF =  RandomForestClassifier(n_estimators=100, n_jobs=-2)\n",
    "avg_precisions = cross_val_score(RF, X, y, scoring = 'average_precision', cv = 5, n_jobs=-2)\n",
    "roc_aucs = cross_val_score(RF, X, y, scoring = 'roc_auc', cv = 5, n_jobs=-2)\n",
    "\n",
    "print \"the average precisoin\", np.mean(avg_precisions ), \"±\", np.std(avg_precisions)\n",
    "print \"the average auc\", np.mean(roc_aucs), \"±\", np.std(roc_aucs)"
   ]
  },
  {
   "cell_type": "code",
   "execution_count": 11,
   "metadata": {
    "collapsed": false
   },
   "outputs": [
    {
     "data": {
      "image/png": "[encoded data removed]",
      "text/plain": [
       "<matplotlib.figure.Figure at 0x11a209c50>"
      ]
     },
     "metadata": {},
     "output_type": "display_data"
    }
   ],
   "source": [
    "RF =  RandomForestClassifier(n_estimators=100, n_jobs=-2)\n",
    "RF.fit(X_train, y_train)\n",
    "y_scores = RF.predict_proba(X_test)[:,1]\n",
    "\n",
    "\n",
    "AUC = roc_auc_score(y_test, y_scores)\n",
    "avg_prec = average_precision_score(y_test, y_scores)\n",
    "\n",
    "plot_precision_recall_curve(y_test, RF.predict_proba(X_test)[:,1], \n",
    "                            \"Random Forests Baseline \\n AUC: {0:0.4f}\".format(AUC) \n",
    "                            + \"\\nAverage Precision: {0:0.4f}\".format(avg_prec))"
   ]
  },
  {
   "cell_type": "code",
   "execution_count": 14,
   "metadata": {
    "collapsed": false
   },
   "outputs": [
    {
     "name": "stdout",
     "output_type": "stream",
     "text": [
      "the average precisoin 0.781848726876 ± 0.0840837739921\n",
      "the average auc 0.945962911258 ± 0.019316516351\n"
     ]
    },
    {
     "data": {
      "image/png": "[encoded data removed]",
      "text/plain": [
       "<matplotlib.figure.Figure at 0x111751e90>"
      ]
     },
     "metadata": {},
     "output_type": "display_data"
    }
   ],
   "source": [
    "eval_classifier(RandomForestClassifier(n_estimators=100, n_jobs=-2, class_weight=\"balanced\"))"
   ]
  },
  {
   "cell_type": "markdown",
   "metadata": {},
   "source": [
    "## Naive over sampling and undersampling"
   ]
  },
  {
   "cell_type": "code",
   "execution_count": 5,
   "metadata": {
    "collapsed": true
   },
   "outputs": [],
   "source": [
    "def classifier_avg_precision(clf, X_pos, X_neg):\n",
    "    X_augmented = np.vstack((X_pos, X_neg))\n",
    "    y_augmented = np.hstack((np.ones(X_pos.shape[0]), np.zeros(X_neg.shape[0])))\n",
    "    X_augmented, y_augmented = shuffle(X_augmented, y_augmented, random_state = 0)\n",
    "    avg_precisions = cross_val_score(clf, X_augmented, y_augmented, scoring = 'average_precision', cv = 5, n_jobs=-2)\n",
    "    #roc_aucs = cross_val_score(clf, X, y, scoring = 'roc_auc', cv = 5, n_jobs=-2)\n",
    "    \n",
    "    return np.mean(avg_precisions ), np.std(avg_precisions)"
   ]
  },
  {
   "cell_type": "code",
   "execution_count": 6,
   "metadata": {
    "collapsed": false,
    "scrolled": true
   },
   "outputs": [
    {
     "name": "stdout",
     "output_type": "stream",
     "text": [
      "Num neg examples 190490\n",
      "Num pos examples 330\n"
     ]
    }
   ],
   "source": [
    "X_train_neg = X_train[y_train == 0]\n",
    "X_train_pos = X_train[y_train == 1]\n",
    "\n",
    "print \"Num neg examples\", X_train_neg.shape[0]\n",
    "print \"Num pos examples\", X_train_pos.shape[0]"
   ]
  },
  {
   "cell_type": "code",
   "execution_count": 7,
   "metadata": {
    "collapsed": false
   },
   "outputs": [],
   "source": [
    "def sample_rows(A, sample_factor, replace_samples = False):\n",
    "    indx = np.random.choice(A.shape[0], \n",
    "                            size = int(A.shape[0]*sample_factor), \n",
    "                            replace=replace_samples)\n",
    "\n",
    "    A = A[indx,:]\n",
    "    return A"
   ]
  },
  {
   "cell_type": "code",
   "execution_count": 10,
   "metadata": {
    "collapsed": false
   },
   "outputs": [],
   "source": [
    "avg_precisions_over_sample_fixed = []\n",
    "std_precisions_over_sample_fixed = []\n",
    "\n",
    "under_sample_factors = np.logspace(-3,0,20)\n",
    "\n",
    "for under_sample_factor in under_sample_factors:\n",
    "    X_train_neg_under = sample_rows(X_train_neg, sample_factor = under_sample_factor, replace_samples=False)\n",
    "    X_train_pos_over = sample_rows(X_train_pos, sample_factor = 1, replace_samples=True)\n",
    "    \n",
    "    avg_p, std_p = classifier_avg_precision(RandomForestClassifier(n_estimators=100, n_jobs=-2), \n",
    "                                            X_train_pos_over, X_train_neg_under)\n",
    "    avg_precisions_over_sample_fixed.append(avg_p)\n",
    "    std_precisions_over_sample_fixed.append(std_p)"
   ]
  },
  {
   "cell_type": "code",
   "execution_count": 11,
   "metadata": {
    "collapsed": false
   },
   "outputs": [
    {
     "data": {
      "text/plain": [
       "<matplotlib.text.Text at 0x1170888d0>"
      ]
     },
     "execution_count": 11,
     "metadata": {},
     "output_type": "execute_result"
    },
    {
     "data": {
      "image/png": "[encoded data removed]",
      "text/plain": [
       "<matplotlib.figure.Figure at 0x115ea03d0>"
      ]
     },
     "metadata": {},
     "output_type": "display_data"
    }
   ],
   "source": [
    "plt.errorbar(under_sample_factors, avg_precisions_over_sample_fixed, yerr= np.array(std_precisions_over_sample_fixed), \n",
    "             fmt = 'o')\n",
    "plt.semilogx()\n",
    "plt.xlabel(\"Under sample factor\")\n",
    "plt.ylabel(\"Average Precision\")\n"
   ]
  },
  {
   "cell_type": "code",
   "execution_count": null,
   "metadata": {
    "collapsed": true
   },
   "outputs": [],
   "source": []
  },
  {
   "cell_type": "code",
   "execution_count": 37,
   "metadata": {
    "collapsed": false
   },
   "outputs": [],
   "source": [
    "meh = np.hstack((np.ones(X_train_pos_over.shape[0]), np.zeros(X_train_neg_under.shape[0])))"
   ]
  },
  {
   "cell_type": "code",
   "execution_count": 38,
   "metadata": {
    "collapsed": false
   },
   "outputs": [
    {
     "data": {
      "text/plain": [
       "(22349,)"
      ]
     },
     "execution_count": 38,
     "metadata": {},
     "output_type": "execute_result"
    }
   ],
   "source": [
    "meh.shape"
   ]
  },
  {
   "cell_type": "code",
   "execution_count": null,
   "metadata": {
    "collapsed": true
   },
   "outputs": [],
   "source": [
    "neg_indx = np.random.choice(X_train_neg.shape[0], \n",
    "                            size = int(X_train_neg.shape[0]*.1), \n",
    "                            replace=False)\n",
    "\n",
    "X_train_neg_under = X_train_neg[neg_indx,:]\n",
    "print \"Num neg examples under sampled\", X_train_neg_under.shape[0]"
   ]
  },
  {
   "cell_type": "code",
   "execution_count": null,
   "metadata": {
    "collapsed": true,
    "scrolled": true
   },
   "outputs": [],
   "source": [
    "from scipy.stats import normaltest\n",
    "p_vals = normaltest(X_train_pos, axis = 0).pvalue"
   ]
  },
  {
   "cell_type": "code",
   "execution_count": null,
   "metadata": {
    "collapsed": false,
    "scrolled": true
   },
   "outputs": [],
   "source": [
    "p_thresh = 1e-20\n",
    "X_train_pos[:, p_vals<p_thresh].shape"
   ]
  },
  {
   "cell_type": "code",
   "execution_count": null,
   "metadata": {
    "collapsed": true,
    "scrolled": true
   },
   "outputs": [],
   "source": [
    "np.random.seed(42)\n",
    "indx = np.random.randint(X_train_pos.shape[0], size=X_train_pos.shape[0]*100)"
   ]
  },
  {
   "cell_type": "code",
   "execution_count": null,
   "metadata": {
    "collapsed": true,
    "scrolled": true
   },
   "outputs": [],
   "source": [
    "X_synth = X_train_pos[indx,:].copy()\n"
   ]
  },
  {
   "cell_type": "code",
   "execution_count": null,
   "metadata": {
    "collapsed": false,
    "scrolled": true
   },
   "outputs": [],
   "source": [
    "num_rows, num_cols = X_synth[:, p_vals<p_thresh].shape\n",
    "X_synth[:,p_vals<p_thresh] = X_synth[:, p_vals<p_thresh] + 0.01*np.random.randn(num_rows, num_cols)"
   ]
  },
  {
   "cell_type": "code",
   "execution_count": null,
   "metadata": {
    "collapsed": false,
    "scrolled": true
   },
   "outputs": [],
   "source": [
    "X_train_pos_aug = np.vstack((X_synth, X_train_pos))"
   ]
  },
  {
   "cell_type": "code",
   "execution_count": null,
   "metadata": {
    "collapsed": true,
    "scrolled": true
   },
   "outputs": [],
   "source": [
    "X_train_aug = np.vstack((X_train_pos_aug, X_train_neg))"
   ]
  },
  {
   "cell_type": "code",
   "execution_count": null,
   "metadata": {
    "collapsed": false,
    "scrolled": true
   },
   "outputs": [],
   "source": [
    "y_train_aug = np.hstack((np.ones(X_train_pos_aug.shape[0]), np.zeros(X_train_neg.shape[0])))"
   ]
  },
  {
   "cell_type": "code",
   "execution_count": null,
   "metadata": {
    "collapsed": true,
    "scrolled": true
   },
   "outputs": [],
   "source": [
    "LR = LogisticRegressionCV()"
   ]
  },
  {
   "cell_type": "code",
   "execution_count": null,
   "metadata": {
    "collapsed": true,
    "scrolled": true
   },
   "outputs": [],
   "source": [
    "np.random.shuffle(y_train_aug)"
   ]
  },
  {
   "cell_type": "code",
   "execution_count": null,
   "metadata": {
    "collapsed": false,
    "scrolled": true
   },
   "outputs": [],
   "source": [
    "LR.fit(X_train_aug, y_train_aug)"
   ]
  },
  {
   "cell_type": "code",
   "execution_count": null,
   "metadata": {
    "collapsed": false,
    "scrolled": true
   },
   "outputs": [],
   "source": [
    "LR.fit(X_train_aug, y_train_aug)\n",
    "roc_auc_score(y_test, LR.predict_proba(X_test)[:,0])"
   ]
  },
  {
   "cell_type": "code",
   "execution_count": null,
   "metadata": {
    "collapsed": false,
    "scrolled": true
   },
   "outputs": [],
   "source": [
    "f1_score(y_test, LR.predict(X_test))"
   ]
  },
  {
   "cell_type": "code",
   "execution_count": null,
   "metadata": {
    "collapsed": true,
    "scrolled": true
   },
   "outputs": [],
   "source": [
    "from scikitplot import classifier_factory"
   ]
  },
  {
   "cell_type": "code",
   "execution_count": null,
   "metadata": {
    "collapsed": false,
    "scrolled": true
   },
   "outputs": [],
   "source": [
    "classifier_factory(LR)"
   ]
  },
  {
   "cell_type": "code",
   "execution_count": null,
   "metadata": {
    "collapsed": false,
    "scrolled": true
   },
   "outputs": [],
   "source": [
    "LR.plot_precision_recall_curve(X_test, y_test)"
   ]
  },
  {
   "cell_type": "code",
   "execution_count": null,
   "metadata": {
    "collapsed": true,
    "scrolled": true
   },
   "outputs": [],
   "source": [
    "?LR.plot_precision_recall_curve"
   ]
  },
  {
   "cell_type": "code",
   "execution_count": null,
   "metadata": {
    "collapsed": false,
    "scrolled": true
   },
   "outputs": [],
   "source": [
    "LR.plot_roc_curve(X_test, y_test)"
   ]
  },
  {
   "cell_type": "code",
   "execution_count": null,
   "metadata": {
    "collapsed": false,
    "scrolled": true
   },
   "outputs": [],
   "source": [
    "LR.plot_ks_statistic(X_test, y_test)"
   ]
  },
  {
   "cell_type": "code",
   "execution_count": null,
   "metadata": {
    "collapsed": true,
    "scrolled": true
   },
   "outputs": [],
   "source": [
    "import scikitplot.plotters as skplt\n",
    "%matplotlib inline"
   ]
  },
  {
   "cell_type": "code",
   "execution_count": null,
   "metadata": {
    "collapsed": false,
    "scrolled": true
   },
   "outputs": [],
   "source": [
    "res = skplt.precision_recall_curve(y_test, LR.predict_proba(X_test)[:,1])\n"
   ]
  },
  {
   "cell_type": "code",
   "execution_count": null,
   "metadata": {
    "collapsed": false,
    "scrolled": true
   },
   "outputs": [],
   "source": [
    "plt.plot(res[0], res[1])"
   ]
  },
  {
   "cell_type": "code",
   "execution_count": null,
   "metadata": {
    "collapsed": false,
    "scrolled": true
   },
   "outputs": [],
   "source": [
    "y_test.shape"
   ]
  },
  {
   "cell_type": "code",
   "execution_count": null,
   "metadata": {
    "collapsed": false,
    "scrolled": true
   },
   "outputs": [],
   "source": [
    "LR.predict(X_test)"
   ]
  },
  {
   "cell_type": "code",
   "execution_count": null,
   "metadata": {
    "collapsed": false,
    "scrolled": true
   },
   "outputs": [],
   "source": [
    "y_test.shape"
   ]
  },
  {
   "cell_type": "code",
   "execution_count": null,
   "metadata": {
    "collapsed": true,
    "scrolled": true
   },
   "outputs": [],
   "source": []
  }
 ],
 "metadata": {
  "kernelspec": {
   "display_name": "Python 2",
   "language": "python",
   "name": "python2"
  },
  "language_info": {
   "codemirror_mode": {
    "name": "ipython",
    "version": 2
   },
   "file_extension": ".py",
   "mimetype": "text/x-python",
   "name": "python",
   "nbconvert_exporter": "python",
   "pygments_lexer": "ipython2",
   "version": "2.7.12"
  }
 },
 "nbformat": 4,
 "nbformat_minor": 0
}
